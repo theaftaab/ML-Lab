{
  "nbformat": 4,
  "nbformat_minor": 0,
  "metadata": {
    "colab": {
      "provenance": [],
      "authorship_tag": "ABX9TyOCMQJHgpfaw9ecyuMyLOMX",
      "include_colab_link": true
    },
    "kernelspec": {
      "name": "python3",
      "display_name": "Python 3"
    },
    "language_info": {
      "name": "python"
    }
  },
  "cells": [
    {
      "cell_type": "markdown",
      "metadata": {
        "id": "view-in-github",
        "colab_type": "text"
      },
      "source": [
        "<a href=\"https://colab.research.google.com/github/Mandar-Desurkar/Machine_Learning_Lab/blob/main/Q7_KNN.ipynb\" target=\"_parent\"><img src=\"https://colab.research.google.com/assets/colab-badge.svg\" alt=\"Open In Colab\"/></a>"
      ]
    },
    {
      "cell_type": "code",
      "execution_count": 3,
      "metadata": {
        "colab": {
          "base_uri": "https://localhost:8080/"
        },
        "id": "r8zeGvdu6iwi",
        "outputId": "66cb02ff-d3ef-4814-8bf4-f53c6228c174"
      },
      "outputs": [
        {
          "output_type": "stream",
          "name": "stdout",
          "text": [
            "Accuracy: 0.7215189873417721\n",
            "Accuracy with k=1: 0.7088607594936709\n",
            "Accuracy with k=2: 0.7215189873417721\n",
            "Accuracy with k=3: 0.7215189873417721\n",
            "Accuracy with k=4: 0.7468354430379747\n",
            "Accuracy with k=5: 0.7468354430379747\n",
            "Accuracy with k=6: 0.7468354430379747\n",
            "Accuracy with k=7: 0.7341772151898734\n",
            "Accuracy with k=8: 0.7468354430379747\n",
            "Accuracy with k=9: 0.759493670886076\n"
          ]
        }
      ],
      "source": [
        "import numpy as np\n",
        "import pandas as pd\n",
        "from sklearn.model_selection import train_test_split\n",
        "from sklearn.metrics import accuracy_score\n",
        "from sklearn.preprocessing import StandardScaler\n",
        "\n",
        "# Load the dataset\n",
        "url = 'diabetes.csv'\n",
        "column_names = ['Pregnancies', 'Glucose', 'BloodPressure', 'SkinThickness', 'Insulin', 'BMI', 'DiabetesPedigreeFunction', 'Age', 'Outcome']\n",
        "data = pd.read_csv(url, header=None, names=column_names)\n",
        "\n",
        "# Convert columns to numeric, if any conversion issues arise, replace them with NaN\n",
        "numeric_cols = ['Pregnancies', 'Glucose', 'BloodPressure', 'SkinThickness', 'Insulin', 'BMI', 'DiabetesPedigreeFunction', 'Age']\n",
        "data[numeric_cols] = data[numeric_cols].apply(pd.to_numeric, errors='coerce')\n",
        "\n",
        "# Replace zero values with NaN in these columns\n",
        "cols = ['Glucose', 'BloodPressure', 'SkinThickness', 'Insulin', 'BMI']\n",
        "data[cols] = data[cols].replace(0, np.nan)\n",
        "\n",
        "# Drop rows with missing values\n",
        "data.dropna(inplace=True)\n",
        "\n",
        "# Split the dataset into features and target variable\n",
        "X = data.drop('Outcome', axis=1)\n",
        "y = data['Outcome']\n",
        "\n",
        "# Split the data into training and test sets\n",
        "X_train, X_test, y_train, y_test = train_test_split(X, y, test_size=0.2, random_state=42)\n",
        "\n",
        "# Normalize the features\n",
        "scaler = StandardScaler()\n",
        "X_train_scaled = scaler.fit_transform(X_train)\n",
        "X_test_scaled = scaler.transform(X_test)\n",
        "\n",
        "# Implementing KNN from scratch\n",
        "def euclidean_distance(row1, row2):\n",
        "    return np.sqrt(np.sum((row1 - row2) ** 2))\n",
        "\n",
        "def get_neighbors(train, train_labels, test_row, num_neighbors):\n",
        "    distances = []\n",
        "    for i, train_row in enumerate(train):\n",
        "        dist = euclidean_distance(test_row, train_row)\n",
        "        distances.append((train_labels.iloc[i], dist))\n",
        "    distances.sort(key=lambda x: x[1])\n",
        "    neighbors = [distances[i][0] for i in range(num_neighbors)]\n",
        "    return neighbors\n",
        "\n",
        "def predict_classification(train, train_labels, test_row, num_neighbors):\n",
        "    neighbors = get_neighbors(train, train_labels, test_row, num_neighbors)\n",
        "    prediction = max(set(neighbors), key=neighbors.count)\n",
        "    return prediction\n",
        "\n",
        "def knn_predict(train, train_labels, test, num_neighbors):\n",
        "    predictions = []\n",
        "    for row in test:\n",
        "        output = predict_classification(train, train_labels, row, num_neighbors)\n",
        "        predictions.append(output)\n",
        "    return predictions\n",
        "\n",
        "# Make predictions using the KNN algorithm\n",
        "y_pred = knn_predict(X_train_scaled, y_train, X_test_scaled, num_neighbors=3)\n",
        "\n",
        "# Calculate the accuracy of the model\n",
        "accuracy = accuracy_score(y_test, y_pred)\n",
        "print(f\"Accuracy: {accuracy}\")\n",
        "\n",
        "# Experiment with different values of k and distance metrics\n",
        "for k in range(1, 10):\n",
        "    y_pred = knn_predict(X_train_scaled, y_train, X_test_scaled, num_neighbors=k)\n",
        "    accuracy = accuracy_score(y_test, y_pred)\n",
        "    print(f\"Accuracy with k={k}: {accuracy}\")"
      ]
    }
  ]
}